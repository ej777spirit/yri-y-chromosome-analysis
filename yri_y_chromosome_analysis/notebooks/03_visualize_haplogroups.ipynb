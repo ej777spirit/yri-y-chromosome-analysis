{
	"nbformat": 4,
	"nbformat_minor": 5,
	"cells": [
		{
		    "cell_type": "markdown",
		    "metadata": {},
		    "source": "# 03 – Visualize Haplogroups\nUpdated: 2025-09-18\n\nThis notebook renders figures from the processed results. Mirrors `yri_y_chromosome_analysis/scripts/visualize_yri_haplogroups.py`.\n"
		},
		{
		    "cell_type": "code",
		    "execution_count": null,
		    "metadata": {},
		    "outputs": [],
		    "source": "# (Optional) install viz deps\\n# !pip install matplotlib seaborn\n"
		},
		{
		    "cell_type": "code",
		    "execution_count": null,
		    "metadata": {},
		    "outputs": [],
		    "source": "# Generate figures into yri_y_chromosome_analysis/visualizations\\n!python yri_y_chromosome_analysis/scripts/visualize_yri_haplogroups.py\n"
		}
		],
	"metadata": {
		"kernelspec": {
			"name": "python3",
			"language": "python",
			"display_name": "Python 3"
		},
		"language_info": {
			"name": "python",
			"version": "3"
		}
		}
}