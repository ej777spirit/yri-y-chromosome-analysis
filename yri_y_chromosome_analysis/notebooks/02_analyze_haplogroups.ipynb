{
	"nbformat": 4,
	"nbformat_minor": 5,
	"cells": [
		{
		    "cell_type": "markdown",
		    "metadata": {},
		    "source": "# 02 – Analyze Haplogroups\nUpdated: 2025-09-18\n\nThis notebook runs haplogroup calling and frequency analyses. Mirrors `yri_y_chromosome_analysis/scripts/analyze_yri_haplogroups.py`.\n"
		},
		{
		    "cell_type": "code",
		    "execution_count": null,
		    "metadata": {},
		    "outputs": [],
		    "source": "# (Optional) install required tools and Python deps\\n# !pip Install pandas numpy matplotlib seaborn\n"
		},
		{
		    "cell_type": "code",
		    "execution_count": null,
		    "metadata": {},
		    "outputs": [],
		    "source": "# Ensure inputs exist and run analysis\\n!python yri_y_chromosome_analysis/scripts/analyze_yri_haplogroups.py\n"
		}
		],
	"metadata": {
		"kernelspec": {
			"name": "python3",
			"language": "python",
			"display_name": "Python 3"
		},
			language_info": {
			"name": "python",
			"version": "3"
			}
		}
}