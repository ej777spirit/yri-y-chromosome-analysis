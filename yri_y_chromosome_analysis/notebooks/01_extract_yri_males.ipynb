{
	"nbformat": 4,
	"nbformat_minor": 5,
	"cells": [
		{
		    "cell_type": "markdown",
		    "metadata": {},
		    "source": "# 01 – Extract YRI Males\nUpdated: 2025-09-18\n\nThis notebook extracts YRI male sample IDs and prepares input lists. Mirrors `yri_y_chromosome_analysis/scripts/extract_yri_males.py`.\n"
		},
		{
		    "cell_type": "code",
		    "execution_count": null,
		    "metadata": {},
		    "outputs": [],
		    "source": "# (Optional) install dependencies\\n# !pip install pandas numpy matplotlib seaborn\n"
		},
		{
		    "cell_type": "code",
		    "execution_count": null,
		    "metadata": {},
		    "outputs": [],
		    "source": "import pathlib, os\nprint('CWD:', pathlib.Path.cwd())\n"
		},
		{
		    "cell_type": "code",
		    "execution_count": null,
		    "metadata": {},
		    "outputs": [],
		    "source": "# Run the extraction script (reads 1000G metadata, writes yri_male_samples.txt)\n!python yri_y_chromosome_analysis/scripts/extract_yri_males.py\n"
		}
		],
	"metadata": {
		"kernelspec": {
			"name": "python3",
			"language": "python",
			"display_name": "Python 3"
		},
		"language_info": {
			"name": "python",
			"version": "3"
		}
		}
}